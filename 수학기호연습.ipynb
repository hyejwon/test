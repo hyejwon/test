{
  "nbformat": 4,
  "nbformat_minor": 0,
  "metadata": {
    "colab": {
      "name": "Untitled15.ipynb",
      "private_outputs": true,
      "provenance": [],
      "authorship_tag": "ABX9TyO0ZbHwKjMOHH6F0q4U3+rU",
      "include_colab_link": true
    },
    "kernelspec": {
      "name": "python3",
      "display_name": "Python 3"
    },
    "language_info": {
      "name": "python"
    },
    "accelerator": "GPU"
  },
  "cells": [
    {
      "cell_type": "markdown",
      "metadata": {
        "id": "view-in-github",
        "colab_type": "text"
      },
      "source": [
        "<a href=\"https://colab.research.google.com/github/hyejwon/test/blob/main/%EC%88%98%ED%95%99%EA%B8%B0%ED%98%B8%EC%97%B0%EC%8A%B5.ipynb\" target=\"_parent\"><img src=\"https://colab.research.google.com/assets/colab-badge.svg\" alt=\"Open In Colab\"/></a>"
      ]
    },
    {
      "cell_type": "markdown",
      "metadata": {
        "id": "BkOky1A0WHXN"
      },
      "source": [
        "## 수학 기호 연습\n",
        "\n",
        "수식 기호들을 집어 넣는 연습을 해봅시다.$\\int_{0}^{1}{f(x)dx}$\n",
        "### 수식 크게\n",
        "$$\n",
        " \\sum_{i=0}^{n}{log{(i)}}\n",
        "$$"
      ]
    },
    {
      "cell_type": "markdown",
      "metadata": {
        "id": "d9LPHjJsXYcP"
      },
      "source": [
        "$$\\frac{A}{B}$$"
      ]
    },
    {
      "cell_type": "code",
      "metadata": {
        "id": "AhRCCj9aWBgG"
      },
      "source": [
        "1+1"
      ],
      "execution_count": null,
      "outputs": []
    },
    {
      "cell_type": "code",
      "metadata": {
        "id": "OmEgJYJxWPhV"
      },
      "source": [
        ""
      ],
      "execution_count": null,
      "outputs": []
    }
  ]
}